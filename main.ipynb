{
  "nbformat": 4,
  "nbformat_minor": 0,
  "metadata": {
    "kernelspec": {
      "display_name": "Python 3",
      "language": "python",
      "name": "python3"
    },
    "language_info": {
      "codemirror_mode": {
        "name": "ipython",
        "version": 3
      },
      "file_extension": ".py",
      "mimetype": "text/x-python",
      "name": "python",
      "nbconvert_exporter": "python",
      "pygments_lexer": "ipython3",
      "version": "3.5.6"
    },
    "colab": {
      "name": "main.ipynb",
      "provenance": [],
      "collapsed_sections": []
    }
  },
  "cells": [
    {
      "cell_type": "markdown",
      "metadata": {
        "id": "F1sa_QJ55-fu",
        "colab_type": "text"
      },
      "source": [
        "# **Project 4 - Q Learning**\n",
        "\n",
        "For this project, you will be tasked with both implementing and explaining key components of the Q-learning algorithm.\n",
        "\n",
        "All the code deliverables has to be provided within this notebook.\n",
        "\n",
        "# 1 - Packages\n",
        "Let's first import all the packages that you will need during this assignment.\n",
        "\n",
        "* \n",
        "[numpy](https://numpy.org/) - is the main package for scientific computing with Python\n",
        "*\n",
        "[matplotlib](https://matplotlib.org/) - is a plotting library\n",
        "*\n",
        "[gym](https://gym.openai.com/docs/) - Gym is a toolkit for developing and comparing reinforcement learning algorithms.\n",
        "*\n",
        "[gym.spaces](http://gym.openai.com/docs/) - Every environment comes with an action_space and an observation_space. These attributes are of type Space, and they describe the format of valid actions and observations.\n",
        "*\n",
        "[time](https://docs.python.org/3/library/time.html?highlight=time#module-time) - will be used to track how much time each computation takes\n",
        "*\n",
        "[copy](https://docs.python.org/3/library/copy.html) - A copy is sometimes needed so one can change one copy without changing the other.\n",
        "*\n",
        "[Threading](https://docs.python.org/3/library/threading.html) - This module constructs higher-level threading interfaces on top of the lower level thread module.\n",
        "*\n",
        "[Collections](https://docs.python.org/2/library/collections.html) - This module implements specialized container datatypes providing alternatives to Python’s general purpose built-in containers, dict, list, set, and tuple.\n"
      ]
    },
    {
      "cell_type": "code",
      "metadata": {
        "id": "M_PLd07ie8k1",
        "colab_type": "code",
        "colab": {}
      },
      "source": [
        "#######################################################################\n",
        "# Authors:\n",
        "# Nathan Margaglio (nathanmargaglio@gmail.com)                                                          \n",
        "# Mihir Hemant Chauhan (mihirhem@buffalo.edu)                       \n",
        "# Qian Cheng (qcheng2@buffalo.edu)                            \n",
        "#######################################################################\n",
        "import numpy as np\n",
        "import matplotlib.pyplot as plt\n",
        "import gym\n",
        "import gym.spaces\n",
        "import time\n",
        "import copy\n",
        "import threading\n",
        "import time\n",
        "import collections"
      ],
      "execution_count": 0,
      "outputs": []
    },
    {
      "cell_type": "markdown",
      "metadata": {
        "id": "6AsLthEre8kw",
        "colab_type": "text"
      },
      "source": [
        "`## Basic Environment\n",
        "Here we define our grid-world environment. No need to make any changes."
      ]
    },
    {
      "cell_type": "code",
      "metadata": {
        "colab_type": "code",
        "id": "1KZhxOunpbNp",
        "colab": {}
      },
      "source": [
        "class GridEnvironment(gym.Env):\n",
        "    metadata = { 'render.modes': ['human'] }\n",
        "    \n",
        "    def __init__(self, normalize=False, size=4):\n",
        "        self.observation_space = gym.spaces.Box(0, size, (size,))\n",
        "        self.action_space = gym.spaces.Discrete(4)\n",
        "        self.max_timesteps = size*2 + 1\n",
        "        self.normalize = normalize\n",
        "        self.size = size\n",
        "\n",
        "        # Generate State Transition Table\n",
        "        self.transition_matrix = []\n",
        "        for x in range(size + 1):\n",
        "            state_x = []\n",
        "            for y in range(size + 1):\n",
        "                state_y = []\n",
        "                for a in range(4):\n",
        "                    one_hot = np.zeros(4)\n",
        "                    one_hot[a] = 1\n",
        "                    state_y.append(one_hot)\n",
        "                state_x.append(state_y)\n",
        "            self.transition_matrix.append(state_x)\n",
        "        \n",
        "    def transition_func(self, x, y, action, return_probs=False):\n",
        "        probs = self.transition_matrix[x][y][action]\n",
        "        if return_probs:\n",
        "            return probs\n",
        "        else:\n",
        "            return np.random.choice(len(probs), p=probs)\n",
        "\n",
        "    def _get_distance(self, x, y):\n",
        "        return abs(x[0] - y[0]) + abs(x[1] - y[1])\n",
        "        \n",
        "    def reset(self):\n",
        "        self.timestep = 0\n",
        "        self.agent_pos = [0, 0]\n",
        "        self.goal_pos = [self.size, self.size]\n",
        "        self.state = np.zeros((self.size + 1, self.size + 1))\n",
        "        self.state[tuple(self.agent_pos)] = 1\n",
        "        self.state[tuple(self.goal_pos)] = 0.5\n",
        "        self.prev_distance = self._get_distance(self.agent_pos, self.goal_pos)\n",
        "        return np.array(self.agent_pos)/1.\n",
        "    \n",
        "    def step(self, action):\n",
        "        action_taken = self.transition_func(self.agent_pos[0], self.agent_pos[1], action)\n",
        "        self.state = np.random.choice(self.observation_space.shape[0])\n",
        "        if action_taken == 0:\n",
        "            self.agent_pos[0] += 1\n",
        "        if action_taken == 1:\n",
        "            self.agent_pos[0] -= 1\n",
        "        if action_taken == 2:\n",
        "            self.agent_pos[1] += 1\n",
        "        if action_taken == 3:\n",
        "            self.agent_pos[1] -= 1\n",
        "          \n",
        "        self.agent_pos = np.clip(self.agent_pos, 0, self.size)\n",
        "        self.state = np.zeros((self.size + 1, self.size + 1))\n",
        "        self.state[tuple(self.agent_pos)] = 1\n",
        "        self.state[tuple(self.goal_pos)] = 0.5\n",
        "        \n",
        "        current_distance = self._get_distance(self.agent_pos, self.goal_pos)\n",
        "        if current_distance < self.prev_distance:\n",
        "            reward = 1\n",
        "        elif current_distance > self.prev_distance:\n",
        "            reward = -1\n",
        "        else:\n",
        "            reward = -1\n",
        "        self.prev_distance = current_distance\n",
        "        \n",
        "        self.timestep += 1\n",
        "        if self.timestep >= self.max_timesteps or current_distance == 0:\n",
        "            done = True\n",
        "        else:\n",
        "            done = False\n",
        "        info = {}\n",
        "        \n",
        "        obs = self.agent_pos\n",
        "        if self.normalize:\n",
        "            obs = obs/self.size\n",
        "        return obs, reward, done, info\n",
        "        \n",
        "    def render(self, mode='human'):\n",
        "        plt.imshow(self.state)"
      ],
      "execution_count": 0,
      "outputs": []
    },
    {
      "cell_type": "code",
      "metadata": {
        "id": "hy2YHvlNe8lW",
        "colab_type": "code",
        "outputId": "311d7617-2988-48af-bac7-037d4fa6d2c7",
        "colab": {
          "base_uri": "https://localhost:8080/",
          "height": 265
        }
      },
      "source": [
        "env = GridEnvironment()\n",
        "obs = env.reset()\n",
        "env.render()"
      ],
      "execution_count": 198,
      "outputs": [
        {
          "output_type": "display_data",
          "data": {
            "image/png": "[encoded data removed]",
            "text/plain": [
              "<Figure size 432x288 with 1 Axes>"
            ]
          },
          "metadata": {
            "tags": []
          }
        }
      ]
    },
    {
      "cell_type": "markdown",
      "metadata": {
        "id": "Bc3VOQuJF1el",
        "colab_type": "text"
      },
      "source": [
        "## Random Agent\n",
        "This runs the environment with a random agent that just takes random actions. Neither does he learn, nor remember anything. Try to run it!"
      ]
    },
    {
      "cell_type": "code",
      "metadata": {
        "id": "z9XqqwQtFr8k",
        "colab_type": "code",
        "colab": {}
      },
      "source": [
        "class RandomAgent:\n",
        "    def __init__(self, env):\n",
        "        self.env = env\n",
        "        self.observation_space = env.observation_space\n",
        "        self.action_space = env.action_space\n",
        "\n",
        "    def policy(self, observation):\n",
        "        return np.random.choice(self.action_space.n)\n",
        "        \n",
        "    def step(self, observation, verbose=False):\n",
        "        return self.policy(observation)"
      ],
      "execution_count": 0,
      "outputs": []
    },
    {
      "cell_type": "code",
      "metadata": {
        "id": "0S5tBBqfF-s3",
        "colab_type": "code",
        "outputId": "ee2477e0-6301-477d-d885-ebbfd8efd298",
        "colab": {
          "base_uri": "https://localhost:8080/",
          "height": 1000
        }
      },
      "source": [
        "env = GridEnvironment(normalize=True)\n",
        "agent = RandomAgent(env)\n",
        "\n",
        "obs = env.reset()\n",
        "done = False\n",
        "agent.epsilon = 0\n",
        "env.render()\n",
        "plt.show()\n",
        "\n",
        "while not done:\n",
        "    action = agent.step(obs, verbose=True)\n",
        "    obs, reward, done, info = env.step(action)\n",
        "    env.render()\n",
        "    plt.show()"
      ],
      "execution_count": 200,
      "outputs": [
        {
          "output_type": "display_data",
          "data": {
            "image/png": "[encoded data removed]",
            "text/plain": [
              "<Figure size 432x288 with 1 Axes>"
            ]
          },
          "metadata": {
            "tags": []
          }
        },
        {
          "output_type": "display_data",
          "data": {
            "image/png": "[encoded data removed]",
            "text/plain": [
              "<Figure size 432x288 with 1 Axes>"
            ]
          },
          "metadata": {
            "tags": []
          }
        },
        {
          "output_type": "display_data",
          "data": {
            "image/png": "[encoded data removed]",
            "text/plain": [
              "<Figure size 432x288 with 1 Axes>"
            ]
          },
          "metadata": {
            "tags": []
          }
        },
        {
          "output_type": "display_data",
          "data": {
            "image/png": "[encoded data removed]",
            "text/plain": [
              "<Figure size 432x288 with 1 Axes>"
            ]
          },
          "metadata": {
            "tags": []
          }
        },
        {
          "output_type": "display_data",
          "data": {
            "image/png": "[encoded data removed]",
            "text/plain": [
              "<Figure size 432x288 with 1 Axes>"
            ]
          },
          "metadata": {
            "tags": []
          }
        },
        {
          "output_type": "display_data",
          "data": {
            "image/png": "[encoded data removed]",
            "text/plain": [
              "<Figure size 432x288 with 1 Axes>"
            ]
          },
          "metadata": {
            "tags": []
          }
        },
        {
          "output_type": "display_data",
          "data": {
            "image/png": "[encoded data removed]",
            "text/plain": [
              "<Figure size 432x288 with 1 Axes>"
            ]
          },
          "metadata": {
            "tags": []
          }
        },
        {
          "output_type": "display_data",
          "data": {
            "image/png": "[encoded data removed]",
            "text/plain": [
              "<Figure size 432x288 with 1 Axes>"
            ]
          },
          "metadata": {
            "tags": []
          }
        },
        {
          "output_type": "display_data",
          "data": {
            "image/png": "[encoded data removed]",
            "text/plain": [
              "<Figure size 432x288 with 1 Axes>"
            ]
          },
          "metadata": {
            "tags": []
          }
        },
        {
          "output_type": "display_data",
          "data": {
            "image/png": "[encoded data removed]",
            "text/plain": [
              "<Figure size 432x288 with 1 Axes>"
            ]
          },
          "metadata": {
            "tags": []
          }
        }
      ]
    },
    {
      "cell_type": "markdown",
      "metadata": {
        "id": "JCKzZh7u0zFJ",
        "colab_type": "text"
      },
      "source": [
        "## Heuristic Agent\n",
        "This runs the environment with a heuristic agent. No need to make any changes. Try to run it!"
      ]
    },
    {
      "cell_type": "code",
      "metadata": {
        "id": "aVGLhrTG0yQp",
        "colab_type": "code",
        "colab": {}
      },
      "source": [
        "class HeuristicAgent:\n",
        "    def __init__(self, env):\n",
        "        self.env = env\n",
        "        self.observation_space = env.observation_space\n",
        "        self.action_space = env.action_space\n",
        "\n",
        "    def policy(self, observation):\n",
        "        # 0 - down\n",
        "        # 1 - up\n",
        "        # 2 - right\n",
        "        # 3 - left\n",
        "        if (observation[0] < 1.):\n",
        "            return 0\n",
        "        if (observation[1] < 1.):\n",
        "            return 2\n",
        "        return 0\n",
        "        \n",
        "    def step(self, observation, verbose=False):\n",
        "        if verbose:\n",
        "            print(observation)\n",
        "        return self.policy(observation)"
      ],
      "execution_count": 0,
      "outputs": []
    },
    {
      "cell_type": "code",
      "metadata": {
        "id": "kZGSRSzo07v-",
        "colab_type": "code",
        "outputId": "a911b7f7-ea9d-4d3a-bc34-eacf74962582",
        "colab": {
          "base_uri": "https://localhost:8080/",
          "height": 1000
        }
      },
      "source": [
        "env = GridEnvironment(normalize=True)\n",
        "agent = HeuristicAgent(env)\n",
        "\n",
        "obs = env.reset()\n",
        "done = False\n",
        "agent.epsilon = 0\n",
        "env.render()\n",
        "plt.show()\n",
        "\n",
        "while not done:\n",
        "    action = agent.step(obs, verbose=True)\n",
        "    obs, reward, done, info = env.step(action)\n",
        "    env.render()\n",
        "    plt.show()"
      ],
      "execution_count": 202,
      "outputs": [
        {
          "output_type": "display_data",
          "data": {
            "image/png": "[encoded data removed]",
            "text/plain": [
              "<Figure size 432x288 with 1 Axes>"
            ]
          },
          "metadata": {
            "tags": []
          }
        },
        {
          "output_type": "stream",
          "text": [
            "[0. 0.]\n"
          ],
          "name": "stdout"
        },
        {
          "output_type": "display_data",
          "data": {
            "image/png": "[encoded data removed]",
            "text/plain": [
              "<Figure size 432x288 with 1 Axes>"
            ]
          },
          "metadata": {
            "tags": []
          }
        },
        {
          "output_type": "stream",
          "text": [
            "[0.25 0.  ]\n"
          ],
          "name": "stdout"
        },
        {
          "output_type": "display_data",
          "data": {
            "image/png": "[encoded data removed]",
            "text/plain": [
              "<Figure size 432x288 with 1 Axes>"
            ]
          },
          "metadata": {
            "tags": []
          }
        },
        {
          "output_type": "stream",
          "text": [
            "[0.5 0. ]\n"
          ],
          "name": "stdout"
        },
        {
          "output_type": "display_data",
          "data": {
            "image/png": "[encoded data removed]",
            "text/plain": [
              "<Figure size 432x288 with 1 Axes>"
            ]
          },
          "metadata": {
            "tags": []
          }
        },
        {
          "output_type": "stream",
          "text": [
            "[0.75 0.  ]\n"
          ],
          "name": "stdout"
        },
        {
          "output_type": "display_data",
          "data": {
            "image/png": "[encoded data removed]",
            "text/plain": [
              "<Figure size 432x288 with 1 Axes>"
            ]
          },
          "metadata": {
            "tags": []
          }
        },
        {
          "output_type": "stream",
          "text": [
            "[1. 0.]\n"
          ],
          "name": "stdout"
        },
        {
          "output_type": "display_data",
          "data": {
            "image/png": "[encoded data removed]",
            "text/plain": [
              "<Figure size 432x288 with 1 Axes>"
            ]
          },
          "metadata": {
            "tags": []
          }
        },
        {
          "output_type": "stream",
          "text": [
            "[1.   0.25]\n"
          ],
          "name": "stdout"
        },
        {
          "output_type": "display_data",
          "data": {
            "image/png": "[encoded data removed]",
            "text/plain": [
              "<Figure size 432x288 with 1 Axes>"
            ]
          },
          "metadata": {
            "tags": []
          }
        },
        {
          "output_type": "stream",
          "text": [
            "[1.  0.5]\n"
          ],
          "name": "stdout"
        },
        {
          "output_type": "display_data",
          "data": {
            "image/png": "[encoded data removed]",
            "text/plain": [
              "<Figure size 432x288 with 1 Axes>"
            ]
          },
          "metadata": {
            "tags": []
          }
        },
        {
          "output_type": "stream",
          "text": [
            "[1.   0.75]\n"
          ],
          "name": "stdout"
        },
        {
          "output_type": "display_data",
          "data": {
            "image/png": "[encoded data removed]",
            "text/plain": [
              "<Figure size 432x288 with 1 Axes>"
            ]
          },
          "metadata": {
            "tags": []
          }
        }
      ]
    },
    {
      "cell_type": "markdown",
      "metadata": {
        "id": "oSjsMD6Ze8ld",
        "colab_type": "text"
      },
      "source": [
        "## Tabular Q-Learning\n",
        "This is where you need to define policy and update Q tables.\n",
        "For policy.\n",
        "\n",
        "*  \n",
        "[np.argmax](https://docs.scipy.org/doc/numpy/reference/generated/numpy.argmax.html) - Returns the indices of the maximum values along an axis.\n",
        "\n",
        "### Epsilon\n",
        "\n",
        "Our agent will randomly select its action at first by a certain percentage, called ‘exploration rate’ or ‘epsilon’. This is because at first, it is better for the agent to try all kinds of things before it starts to see the patterns. When it is not deciding the action randomly, the agent will predict the reward value based on the current state and pick the action that will give the highest reward. We want our agent to decrease the number of random action, as it goes, so we indroduce an exponential-decay epsilon, that eventually will allow our agent to explore the evironment. \\\\\n",
        "\n",
        "\n",
        "\n",
        "###  <font color='red'>Task 1: Implement policy function.</font>  <br>\n",
        "**Instructions:**\n",
        "- Our agent will randomly select its action at first by a certain percentage, called ‘exploration rate’ or ‘epsilon’. This is because at first, it is better for the agent to try all kinds of things before it starts to see the patterns. Select a random uniform number. If it's less than epsilon, return the random choice action space.\n",
        "- When it is not deciding the action randomly, the agent will predict the reward value based on the current state and pick the action that will give the highest reward. \n",
        "\\begin{align} \\notag\n",
        "\\pi\\left(s_{t}\\right)=\\underset{a \\in A}{\\operatorname{argmax}} Q_{\\theta}\\left(s_{t}, a\\right)\n",
        "\\end{align} \n",
        "- Return the policy\n",
        "- Please note, that the name for all the variables should start with <mark>self</mark>, thus </br> \n",
        "\n",
        "epsilon $\\rightarrow$ self.epsilon </br> \n",
        "action_space $\\rightarrow$ self.action_space\n",
        "\n",
        "###  <font color='red'>Task 2: Update Q-table</font>  <br>\n",
        "**Instructions:**\n",
        "            \\begin{align} \\notag\n",
        "            Q^{n e w}\\left(s_{t}, a_{t}\\right) \\leftarrow(1-\\alpha) \\cdot \\underbrace{Q\\left(s_{t}, a_{t}\\right)}_{\\text {old value }}+\\underbrace{\\alpha}_{\\text {learning rate }} \\cdot \\overbrace{(\\underbrace{r_{t}}_{\\text {reward }} + \\underbrace{\\gamma}_{\\text {discount factor }} \\underbrace{\\max _{a} Q\\left(s_{t+1}, a\\right)}_{a})}^{\\text {learned value }}\n",
        "            \\end{align} "
      ]
    },
    {
      "cell_type": "code",
      "metadata": {
        "id": "l88irSuqe8lf",
        "colab_type": "code",
        "colab": {}
      },
      "source": [
        "class QLearningAgent:\n",
        "    def __init__(self, env, epsilon=1.0, lr=0.1, gamma=0.9):\n",
        "        self.env = env\n",
        "        self.observation_space = env.observation_space\n",
        "        self.action_space = env.action_space\n",
        "        q_table_dim = env.observation_space.shape[0] + 1\n",
        "        self.q_table = np.zeros((q_table_dim, q_table_dim, env.action_space.n))\n",
        "        self.epsilon = epsilon\n",
        "        self.lr = lr\n",
        "        self.gamma = gamma\n",
        "\n",
        "    def policy(self, observation):\n",
        "      # Code for policy (Task 1) (30 points)\n",
        "      observation = observation.astype(int)\n",
        "      if np.random.random() < self.epsilon:\n",
        "            return self.env.action_space.sample()\n",
        "      else:\n",
        "            return np.argmax(self.q_table[tuple(observation)])     \n",
        "        \n",
        "    def step(self, observation):\n",
        "      return self.policy(observation)\n",
        "        \n",
        "    def update(self, state, action, reward, next_state):\n",
        "        state = state.astype(int)\n",
        "        next_state = next_state.astype(int)\n",
        "        # Code for updating Q Table (Task 2) (20 points)\n",
        "        self.q_table[tuple(state)][action] += self.lr * (reward + self.gamma * np.max(self.q_table[tuple(next_state)]) - self.q_table[tuple(state)][action])\n",
        "        #print(self.q_table)\n",
        "        #return self.q_table\n",
        "        # Code for updating Q Table (Task 2) (20 points)\n",
        "        \n",
        "    def set_epsilon(self, epsilon):\n",
        "        self.epsilon = epsilon"
      ],
      "execution_count": 0,
      "outputs": []
    },
    {
      "cell_type": "code",
      "metadata": {
        "id": "GH9lLbwlXAcy",
        "colab_type": "code",
        "colab": {}
      },
      "source": [
        "\n"
      ],
      "execution_count": 0,
      "outputs": []
    },
    {
      "cell_type": "markdown",
      "metadata": {
        "id": "UNKDdzD3e8lj",
        "colab_type": "text"
      },
      "source": [
        "### Training\n",
        "### Environment\n",
        "First, we initialize our environment.  The environment, loosely structured like [OpenAI's Gym Environments](https://gym.openai.com/), has three main methods: `reset`, `step` and `render`. You'll only need `reset` and `step` here.\n",
        "\n",
        "- When we call **reset**, we initialize the environment with a fresh episode. This allows us to effectively run through episodes (only needing to call reset at the beginning of an episode), but, more importantly, `reset()` returns the environment's initial state.\n",
        "\n",
        "- The **step** method accepts an action as a parameter (which, for this example, is an integer in [0, 3]), processes the action, and returns the new state, the reward for performing the action, and a boolean indicating if the run is over.\n",
        "\n",
        "### Agent\n",
        "When we initialize the agent, we must pass both a `environment` into QLearningAgent function.\n",
        "###  <font color='red'>Task 3: Implement the training algorithm</font>  <br>\n",
        "**Instructions:**\n",
        "- After initialization, pass the initial state to obs. Then check if it's already done. If done = False, you'll keep going. While it's not done, you'll need to update `state`, `action`,`reward` and `next_state`. You can get action by `step` the current state on agent. Use `copy` to record the current state. `step` the current action on environment to return the new state, the reward for performing the action, a boolean indicating if the run is over and some other information. Add the new reward on the total rewards. Use `copy` to save the new state returned by `step`. Update the `state`, `action`, `reward`, `next_state` of agent."
      ]
    },
    {
      "cell_type": "code",
      "metadata": {
        "id": "2SDbl2Kue8lk",
        "colab_type": "code",
        "colab": {}
      },
      "source": [
        "env = GridEnvironment() # note: we do not normalize\n",
        "agent = QLearningAgent(env)\n",
        "episodes = 1000 # number of games we want the agent to play\n",
        "delta_epsilon = agent.epsilon/episodes\n",
        "total_rewards = []\n",
        "epsilons = [agent.epsilon]\n",
        "\n",
        "# Training Process (Task 3) (20 points)\n",
        "for i in range(episodes):\n",
        "    obs=env.reset()\n",
        "    done=False\n",
        "    agent.step(obs)\n",
        "    next_state=obs\n",
        "    tot_reward=0\n",
        "    \n",
        "    #reward=0\n",
        "    while not done:\n",
        "        state=copy.deepcopy(next_state)\n",
        "        #current_state=env.state()\n",
        "        #self.env.render()\n",
        "        action = agent.step(state)\n",
        "        next_state, reward, done, info = env.step(action)\n",
        "        #state = np.clip(state, 0, 4)\n",
        "        agent.update(state, action, reward, next_state)\n",
        "        tot_reward+=reward\n",
        "    new_epsilon = agent.epsilon - 5*delta_epsilon*agent.epsilon\n",
        "    agent.set_epsilon(new_epsilon)\n",
        "    epsilons.append(new_epsilon)    \n",
        "    total_rewards.append(tot_reward/episodes)"
      ],
      "execution_count": 0,
      "outputs": []
    },
    {
      "cell_type": "code",
      "metadata": {
        "id": "BHR_0n_BW72Z",
        "colab_type": "code",
        "colab": {}
      },
      "source": [
        ""
      ],
      "execution_count": 0,
      "outputs": []
    },
    {
      "cell_type": "markdown",
      "metadata": {
        "id": "AHDJV4ZAE2l8",
        "colab_type": "text"
      },
      "source": [
        "#### Visualize $\\epsilon$\n",
        "Plot our value of $\\epsilon$ over each episode"
      ]
    },
    {
      "cell_type": "code",
      "metadata": {
        "id": "q137fw4je8ln",
        "colab_type": "code",
        "outputId": "d613c1fb-a6a8-4e13-8bc0-d2719c70f553",
        "colab": {
          "base_uri": "https://localhost:8080/",
          "height": 297
        }
      },
      "source": [
        "plt.xlabel('Episode')\n",
        "plt.ylabel('$\\epsilon$')\n",
        "plt.plot(epsilons)"
      ],
      "execution_count": 205,
      "outputs": [
        {
          "output_type": "execute_result",
          "data": {
            "text/plain": [
              "[<matplotlib.lines.Line2D at 0x7f1fa9c431d0>]"
            ]
          },
          "metadata": {
            "tags": []
          },
          "execution_count": 205
        },
        {
          "output_type": "display_data",
          "data": {
            "image/png": "[encoded data removed]",
            "text/plain": [
              "<Figure size 432x288 with 1 Axes>"
            ]
          },
          "metadata": {
            "tags": []
          }
        }
      ]
    },
    {
      "cell_type": "markdown",
      "metadata": {
        "id": "30Yr74K2e8lr",
        "colab_type": "text"
      },
      "source": [
        "#### Visualize Rewards\n",
        "Plot total_rewards per episode.  We apply a rolling mean of window $10$ to visualize easier."
      ]
    },
    {
      "cell_type": "code",
      "metadata": {
        "id": "Raqojkywe8ls",
        "colab_type": "code",
        "outputId": "3d44b402-2a69-40f4-f626-16a913d82a51",
        "colab": {
          "base_uri": "https://localhost:8080/",
          "height": 297
        }
      },
      "source": [
        "window = 10\n",
        "plt.xlabel('Episode')\n",
        "plt.ylabel('Total Reward (SMA 10)')\n",
        "plt.plot([np.mean(total_rewards[tr:tr+window]) for tr in range(window, len(total_rewards))])"
      ],
      "execution_count": 206,
      "outputs": [
        {
          "output_type": "execute_result",
          "data": {
            "text/plain": [
              "[<matplotlib.lines.Line2D at 0x7f1fa9ba7978>]"
            ]
          },
          "metadata": {
            "tags": []
          },
          "execution_count": 206
        },
        {
          "output_type": "display_data",
          "data": {
            "image/png": "[encoded data removed]",
            "text/plain": [
              "<Figure size 432x288 with 1 Axes>"
            ]
          },
          "metadata": {
            "tags": []
          }
        }
      ]
    },
    {
      "cell_type": "code",
      "metadata": {
        "colab_type": "code",
        "id": "M6wai0MeiGVG",
        "outputId": "de08f1f2-4342-4980-990d-6f2e79c63adb",
        "colab": {
          "base_uri": "https://localhost:8080/",
          "height": 1000
        }
      },
      "source": [
        "env = GridEnvironment()\n",
        "\n",
        "obs = env.reset()\n",
        "done = False\n",
        "agent.epsilon = 0\n",
        "env.render()\n",
        "plt.show()\n",
        "\n",
        "while not done:\n",
        "    action = agent.step(obs)\n",
        "    obs, reward, done, info = env.step(action)\n",
        "    env.render()\n",
        "    plt.show()"
      ],
      "execution_count": 207,
      "outputs": [
        {
          "output_type": "display_data",
          "data": {
            "image/png": "[encoded data removed]",
            "text/plain": [
              "<Figure size 432x288 with 1 Axes>"
            ]
          },
          "metadata": {
            "tags": []
          }
        },
        {
          "output_type": "display_data",
          "data": {
            "image/png": "[encoded data removed]",
            "text/plain": [
              "<Figure size 432x288 with 1 Axes>"
            ]
          },
          "metadata": {
            "tags": []
          }
        },
        {
          "output_type": "display_data",
          "data": {
            "image/png": "[encoded data removed]",
            "text/plain": [
              "<Figure size 432x288 with 1 Axes>"
            ]
          },
          "metadata": {
            "tags": []
          }
        },
        {
          "output_type": "display_data",
          "data": {
            "image/png": "[encoded data removed]",
            "text/plain": [
              "<Figure size 432x288 with 1 Axes>"
            ]
          },
          "metadata": {
            "tags": []
          }
        },
        {
          "output_type": "display_data",
          "data": {
            "image/png": "[encoded data removed]",
            "text/plain": [
              "<Figure size 432x288 with 1 Axes>"
            ]
          },
          "metadata": {
            "tags": []
          }
        },
        {
          "output_type": "display_data",
          "data": {
            "image/png": "[encoded data removed]",
            "text/plain": [
              "<Figure size 432x288 with 1 Axes>"
            ]
          },
          "metadata": {
            "tags": []
          }
        },
        {
          "output_type": "display_data",
          "data": {
            "image/png": "[encoded data removed]",
            "text/plain": [
              "<Figure size 432x288 with 1 Axes>"
            ]
          },
          "metadata": {
            "tags": []
          }
        },
        {
          "output_type": "display_data",
          "data": {
            "image/png": "[encoded data removed]",
            "text/plain": [
              "<Figure size 432x288 with 1 Axes>"
            ]
          },
          "metadata": {
            "tags": []
          }
        },
        {
          "output_type": "display_data",
          "data": {
            "image/png": "[encoded data removed]",
            "text/plain": [
              "<Figure size 432x288 with 1 Axes>"
            ]
          },
          "metadata": {
            "tags": []
          }
        }
      ]
    },
    {
      "cell_type": "code",
      "metadata": {
        "id": "Le4MbAmbigql",
        "colab_type": "code",
        "outputId": "55971457-09ea-4ee9-b663-4c47bb6b1187",
        "colab": {
          "base_uri": "https://localhost:8080/",
          "height": 520
        }
      },
      "source": [
        "#Printing final q_table\n",
        "agent.q_table"
      ],
      "execution_count": 208,
      "outputs": [
        {
          "output_type": "execute_result",
          "data": {
            "text/plain": [
              "array([[[ 4.80919326,  3.77811526,  5.6953279 ,  3.94990791],\n",
              "        [ 5.217031  ,  3.48340282,  4.6011862 ,  3.81634681],\n",
              "        [ 4.58997266,  1.14406371,  0.85879018,  1.30950759],\n",
              "        [ 1.04271606, -0.38195702,  0.109     , -0.03093465],\n",
              "        [ 0.19981   ,  0.        , -0.1729    ,  0.        ]],\n",
              "\n",
              "       [[ 4.91677855,  1.92259673,  2.21662713,  0.42670907],\n",
              "        [ 4.03180003,  3.20298718,  4.68559   ,  2.31321555],\n",
              "        [ 4.0951    ,  2.43154874,  2.90895376,  2.95813729],\n",
              "        [ 2.81539398, -0.23906747,  0.61029899,  0.72861201],\n",
              "        [ 0.53327015, -0.181     ,  0.        , -0.0500635 ]],\n",
              "\n",
              "       [[ 0.79571986,  0.75182604,  4.59765427, -0.21311537],\n",
              "        [ 1.42752892,  0.91242204,  4.09194551,  0.88518939],\n",
              "        [ 3.439     ,  2.3391432 ,  2.80024498,  2.42644226],\n",
              "        [ 2.60018272, -0.03844504,  0.50018959, -0.11613287],\n",
              "        [ 0.56539806,  0.        ,  0.        ,  0.        ]],\n",
              "\n",
              "       [[ 0.        , -0.01378625,  1.13843277, -0.21219572],\n",
              "        [ 0.45638872,  0.55149702,  3.05427117, -0.18159511],\n",
              "        [ 2.71      ,  1.45815959,  2.35265045,  1.0535897 ],\n",
              "        [ 1.89437068, -0.00592601,  0.98865916, -0.03656544],\n",
              "        [ 0.65132156,  0.        , -0.1658061 ,  0.        ]],\n",
              "\n",
              "       [[ 0.        ,  0.        ,  0.        , -0.1       ],\n",
              "        [-0.19      , -0.11379218,  1.94319749, -0.1       ],\n",
              "        [ 0.39898513,  1.02105531,  1.9       ,  0.05435963],\n",
              "        [-0.20569535,  0.36019174,  1.        ,  0.45968733],\n",
              "        [ 0.        ,  0.        ,  0.        ,  0.        ]]])"
            ]
          },
          "metadata": {
            "tags": []
          },
          "execution_count": 208
        }
      ]
    }
  ]
}